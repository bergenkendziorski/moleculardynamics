{
 "cells": [
  {
   "cell_type": "markdown",
   "metadata": {},
   "source": [
    "#### PHY 480 Semester Project\n",
    "### &#9989; Bergen Kendziorski\n",
    "\n",
    "#### &#9989; Last Updated on 4/20/24"
   ]
  },
  {
   "cell_type": "markdown",
   "metadata": {},
   "source": [
    "# Molecular Dynamics of Argon"
   ]
  },
  {
   "cell_type": "markdown",
   "metadata": {},
   "source": [
    "##  Introduction "
   ]
  },
  {
   "cell_type": "markdown",
   "metadata": {},
   "source": [
    "The goal of this project was to create a functional molecular dynamics simulation in order to extract useful properties of argon. The concept of molecular dynamics was started in the 1950's, aimed to simulate systems with large numbers of atoms utilizing the increasing amount of available computational power.$^{[1]}$ These systems could not be solved analytically, as there is no analytical solution due to the large number of particles, each with the possibility of interacting with each other.$^{[2]}$ The basic idea behind molecular dynamics is to simulate the movement of atoms/molecules by solving Newton's equations of motion for the force between them.$^{[2]}$ For the course of this project, I'll be using the Lennard-Jones Potential for the interactions between atoms, as this does a good job of modeling the Van der Walls force.$^{[3]}$ I'll focus on using argon as the interacting particles, as this potential was originally designed for noble gases.$^{[4]}$"
   ]
  },
  {
   "attachments": {},
   "cell_type": "markdown",
   "metadata": {},
   "source": [
    "The Lennard-Jones potential is defined as: $V(r) = 4\\epsilon[(\\sigma/r)^{12} - (\\sigma/r)^{6}]$ if $r \\leq r_c$ where $r_c$ is a cutoff radius, and $V(r) = 0$ if $r \\gt r_c$.\n",
    "\n",
    "source: https://www.thp.uni-koeln.de/trebst/PracticalCourse/molecular_dynamics.html"
   ]
  },
  {
   "cell_type": "markdown",
   "metadata": {},
   "source": [
    "From this, the force felt by a particle due to another is simply the negative partial derivative of the Lennard-Jones potential with respect to r.\n",
    "\n",
    "Therefore $F(r) = 4\\epsilon[12\\sigma^{12}/r^{13} - 6\\sigma^{6}/r^{7}]$ if $r \\leq r_c$, and F(r) = 0 otherwise."
   ]
  },
  {
   "cell_type": "markdown",
   "metadata": {},
   "source": [
    "In order to both test if my code is working as well as to provide a real-world reasoning for doing the simulations in the first place, I aimed to determing the temperatures of phase transitions of argon. These are well established values at a melting point of -189.4 degrees Celsius (83.75 Kelvin) and a boiling point of -185.8 degrees Celsius (87.35 Kelvin).$^{[5]}$ If I could extract this information from my simulations, I would have confirmation that things are working properly. My aim was to rely on the general relationship between potential energy and temperature in materials, where increasing temperature slowly increases the potential energy with sudden jumps in the potential energy at the temperatures corresponding to the phase transitions.\n",
    "\n",
    "Overall, the primary question I set out to investigate was the following:\n",
    "1. What are the temperatures of the phase transitions (melting and boiling points) of argon.\n",
    "\n",
    "Important note: The general idea for this project came from a github repository by Anders Hafreager (source 6), which had a template for molecular dynamics in c++. After around 10ish hours of fiddling with adding to a forked version of his repository in c++, I decided to start from scratch in python, but the idea of using the Lennard-Jones potential for noble gases as well as constants such as the lattice constant, sigma, and epsilon came from him. I also continued using this forked repository for backing up versions of my python code after the switch."
   ]
  },
  {
   "cell_type": "markdown",
   "metadata": {},
   "source": [
    "## Methodology"
   ]
  },
  {
   "cell_type": "markdown",
   "metadata": {},
   "source": [
    "The overall method I used to perform the simulations was to initialize a box with periodic boundary conditions, populate the box with argon atoms (needed to determine their initial positions and velocities), and then solve the ODEs associated with the particle interactions using an iterative method.\n",
    "\n",
    "I used temperature as an input parameter to these simulations, with the idea that if I recorded system potential energy as a function of the temperature, I could simply look for spikes in this function and the corresponding temperatures would be the phase transition temperatures of argon."
   ]
  },
  {
   "cell_type": "markdown",
   "metadata": {},
   "source": [
    "The first step in any python project is importing necessary packages, so I'll do that here."
   ]
  },
  {
   "cell_type": "code",
   "execution_count": 65,
   "metadata": {},
   "outputs": [],
   "source": [
    "import numpy as np\n",
    "import random\n",
    "import math\n",
    "import matplotlib.pyplot as plt\n",
    "import statistics\n",
    "%matplotlib inline\n",
    "random.seed(37) #37 is my old soccer number. This is just to verify consistency each time it's ran, but isn't really needed."
   ]
  },
  {
   "cell_type": "markdown",
   "metadata": {},
   "source": [
    "Next, I needed to initialize some constants and parameters that will be used throughout the simulation."
   ]
  },
  {
   "cell_type": "code",
   "execution_count": 66,
   "metadata": {},
   "outputs": [],
   "source": [
    "#system constants/parameters\n",
    "kb = 1.38065e-23 #boltzmann constant in J/K\n",
    "tfinal = 100 #final time for iteration\n",
    "DeltaT = .01 #time step\n",
    "n = math.ceil(tfinal/DeltaT) #number of steps\n",
    "mass = 39.948*1.66054e-27  # mass of argon in kilograms\n",
    "lattice_const = 5.26e-10 #meters\n",
    "\n",
    "epsilon = 120*kb #Lennard-Jones potential parameter (Joules)\n",
    "sigma = .3405e-9 #Lennard-Jones potential parameter (meters)\n",
    "cutoff = 5*sigma # Cutoff distance for Lennard-Jones potential (meters)\n",
    "box_size = 10*sigma  # Size of the simulation box (meters)\n",
    "num_particles = 10  # Number of particles"
   ]
  },
  {
   "cell_type": "markdown",
   "metadata": {},
   "source": [
    "Many of the above are arbitrary choices that I made, such as the final time, time step, and number of particles. My limited computational power was really what set a limit on these, and why I had to use so few particles. With each particle having the potential to interact with all of the other particles at each step, the computational power required increases dramatically with an increasing number of particles in the box."
   ]
  },
  {
   "cell_type": "markdown",
   "metadata": {},
   "source": [
    "With this set up, I wrote some of the functions that would be needed in my simulations. The first and most obvious of these is the Lennard-Jones potential and the associated force that I derived above."
   ]
  },
  {
   "cell_type": "code",
   "execution_count": 67,
   "metadata": {},
   "outputs": [],
   "source": [
    "def lj_pot(r): #lennard-jones potential\n",
    "    return 4*epsilon*((sigma/r)**12 - (sigma/r)**6)\n",
    "\n",
    "def lj_force(r): #just negative derivate of potential wrt r\n",
    "    return 4*epsilon*(12*(sigma**12)/(r**13) - 6*(sigma**6)/(r**7))"
   ]
  },
  {
   "cell_type": "markdown",
   "metadata": {},
   "source": [
    "Next, I wrote a function to help with the initialization of the particles' velocities. Since temperature is an input to my simulation, I can determine the average kinetic energy of a particle as $1.5*temperature*k_b$ where $k_b$ is the boltzmann constant, and from there the average speed is $\\sqrt{2*KE/mass}$ where $KE$ is the average kinetic energy of a particle. Through this I can know the initial speed of a particle, but to convert to velocity I need to randomize the 3D velocity. Initially, my method had an issue with favoring the vertical axis (See the appendix for more details on this). The math basis for the randomization of theta and phi in the final equation below comes from an article by Karthik Karanth, in the references as source 7."
   ]
  },
  {
   "cell_type": "code",
   "execution_count": 68,
   "metadata": {},
   "outputs": [],
   "source": [
    "def velocity_init(mag):\n",
    "    '''\n",
    "    Determines particle initial velocities in cartesian coordinates\n",
    "    Takes in magnitude of velocity, randomizes direction in spherical coordinates,\n",
    "        and calculates then returns cartesian velocity components\n",
    "    '''\n",
    "    u = random.random()\n",
    "    v = random.random()\n",
    "    theta = u * 2.0 * math.pi\n",
    "    phi = math.acos(2.0 * v - 1.0)\n",
    "    x = mag * np.sin(phi) * np.cos(theta)\n",
    "    y = mag * np.sin(phi) * np.sin(theta)\n",
    "    z = mag * np.cos(phi)\n",
    "    return x,y,z"
   ]
  },
  {
   "cell_type": "markdown",
   "metadata": {},
   "source": [
    "With a function for determining a random-direction pointing velocity from a given speed, we can now write a function to generate the system of argon atoms as a whole. This is one of the major sections where things had to be dialed back from what I had initially planned. I ended up going with randomized positions inside of the box, and velocities of magnitude equal to the average calculated from the temperature. For more in-depth discussion on what I had initially implemented but had to scrap, see the conclusion."
   ]
  },
  {
   "cell_type": "code",
   "execution_count": 69,
   "metadata": {},
   "outputs": [],
   "source": [
    "def system_init(temperature):\n",
    "    '''\n",
    "    For a given temperature, initializes a system of argon atoms\n",
    "    Returns vectors containing positions and velocities for all atoms in cartesian coordinates\n",
    "    '''\n",
    "    K = 1.5*temperature*kb #average particle kinetic energy\n",
    "    v = np.sqrt(2*K/mass) #average particle speed\n",
    "    positions = np.random.uniform(0, box_size, size=(num_particles, 3))\n",
    "    velocities = np.empty(shape=(num_particles,3))\n",
    "    #velocities_lst = []\n",
    "    for i in range(num_particles):\n",
    "        x,y,z = velocity_init(v)\n",
    "        velocities[i][0] = x\n",
    "        velocities[i][1] = y\n",
    "        velocities[i][2] = z\n",
    "        #velocities_lst.append(np.sqrt(x*x+y*y+z*z))\n",
    "    return positions, velocities"
   ]
  },
  {
   "cell_type": "markdown",
   "metadata": {},
   "source": [
    "With this all set-up, I was ready to begin the simulation itself. As mentioned before, the simulation was performed for a variety of temperatues, and the final system potential energy was calculated at the end of each simulation."
   ]
  },
  {
   "cell_type": "code",
   "execution_count": 70,
   "metadata": {},
   "outputs": [],
   "source": [
    "temperatures = np.arange(40,120,5) #list of temperatures to perform simulations at\n",
    "pot_temps = [] #list for storing final potential energy at each temperature\n",
    "for temperature in temperatures: #loop through temperatures\n",
    "    t = np.zeros(n)\n",
    "    \n",
    "    positions,velocities = system_init(temperature) #initializing system\n",
    "\n",
    "    # Start integrating\n",
    "    for curr_step in range(n): #looping through number of steps\n",
    "        accelerations = np.zeros_like(positions)\n",
    "        curr_potential = 0\n",
    "\n",
    "        for i in range(num_particles):\n",
    "            for j in range(i+1,num_particles):\n",
    "                r_ij = positions[j] - positions[i]\n",
    "                r_ij -= np.rint(r_ij/box_size)*box_size\n",
    "                #r_ij[0] = r_ij[0] % box_size\n",
    "                #r_ij[1] = r_ij[1] % box_size\n",
    "                #r_ij[2] = r_ij[2] % box_size\n",
    "                r_mag = np.linalg.norm(r_ij)\n",
    "\n",
    "                if(r_mag<cutoff): #force from Lennard-Jones potential nonzero if within cutoff distance\n",
    "                    force_directed = lj_force(r_mag)*(r_ij/r_mag)\n",
    "                    accelerations[i] += force_directed/mass\n",
    "                    accelerations[j] += -1*force_directed/mass\n",
    "                    curr_potential += 2*np.abs(lj_pot(r_mag))\n",
    "\n",
    "        #updates after calculating all of the accelerations\n",
    "        for i in range(num_particles):\n",
    "            positions[i] = positions[i] + DeltaT*velocities[i] + accelerations[i]*DeltaT*DeltaT/2\n",
    "            velocities[i] = velocities[i] + .5*DeltaT*accelerations[i]\n",
    "            t[i+1] = t[i] + DeltaT\n",
    "            positions[i][0] = positions[i][0] % box_size\n",
    "            positions[i][1] = positions[i][1] % box_size\n",
    "            positions[i][2] = positions[i][2] % box_size\n",
    "\n",
    "            \n",
    "    pot_temps.append(curr_potential)"
   ]
  },
  {
   "cell_type": "markdown",
   "metadata": {},
   "source": [
    "## Results and Discussion"
   ]
  },
  {
   "cell_type": "markdown",
   "metadata": {},
   "source": [
    "The first \"result\" is really just to make sure that everything is working properly in the simulation. I'll start from the beginning, by showing that the initialization works as intended. To do this, I'll actually initialize a new system, with many many more particles. While actually running the simulation with this many particles would be essentially impossible computationally, I can generate the system to show that the initialization works. The reasoning for this is that I can show that I have an even distribution in positions and velocities."
   ]
  },
  {
   "cell_type": "markdown",
   "metadata": {},
   "source": [
    "To begin, let's generate this large system and look at the positions of all the particles."
   ]
  },
  {
   "cell_type": "code",
   "execution_count": 71,
   "metadata": {},
   "outputs": [
    {
     "data": {
      "image/png": "[encoded data removed]",
      "text/plain": [
       "<Figure size 432x288 with 1 Axes>"
      ]
     },
     "metadata": {
      "needs_background": "light"
     },
     "output_type": "display_data"
    },
    {
     "data": {
      "image/png": "[encoded data removed]",
      "text/plain": [
       "<Figure size 432x288 with 1 Axes>"
      ]
     },
     "metadata": {
      "needs_background": "light"
     },
     "output_type": "display_data"
    },
    {
     "data": {
      "image/png": "[encoded data removed]",
      "text/plain": [
       "<Figure size 432x288 with 1 Axes>"
      ]
     },
     "metadata": {
      "needs_background": "light"
     },
     "output_type": "display_data"
    }
   ],
   "source": [
    "temperature = 50\n",
    "num_particles = 100000\n",
    "positions_large, velocities_large = system_init(temperature)\n",
    "\n",
    "plt.hist(positions_large[:,0])\n",
    "plt.title(\"Initial Position x-component\")\n",
    "plt.xlabel(\"Position (m)\")\n",
    "plt.ylabel(\"Count\")\n",
    "plt.show()\n",
    "\n",
    "plt.hist(positions_large[:,1])\n",
    "plt.title(\"Initial Position y-component\")\n",
    "plt.xlabel(\"Position (m)\")\n",
    "plt.ylabel(\"Count\")\n",
    "plt.show()\n",
    "\n",
    "plt.hist(positions_large[:,2])\n",
    "plt.title(\"Initial Position z-component\")\n",
    "plt.xlabel(\"Position (m)\")\n",
    "plt.ylabel(\"Count\")\n",
    "plt.show()"
   ]
  },
  {
   "cell_type": "markdown",
   "metadata": {},
   "source": [
    "From the above plots, we can see an even distribution across all of the positions in the x, y, and z directions. Additionally, we can see that the particles are all contained within the dimensions of the box, which is $10*\\sigma = 3.4*10^{-9}$ meters.\n",
    "\n",
    "Next, we can look at the particles' velocities."
   ]
  },
  {
   "cell_type": "code",
   "execution_count": 72,
   "metadata": {},
   "outputs": [
    {
     "data": {
      "image/png": "[encoded data removed]",
      "text/plain": [
       "<Figure size 432x288 with 1 Axes>"
      ]
     },
     "metadata": {
      "needs_background": "light"
     },
     "output_type": "display_data"
    },
    {
     "data": {
      "image/png": "[encoded data removed]",
      "text/plain": [
       "<Figure size 432x288 with 1 Axes>"
      ]
     },
     "metadata": {
      "needs_background": "light"
     },
     "output_type": "display_data"
    },
    {
     "data": {
      "image/png": "[encoded data removed]",
      "text/plain": [
       "<Figure size 432x288 with 1 Axes>"
      ]
     },
     "metadata": {
      "needs_background": "light"
     },
     "output_type": "display_data"
    }
   ],
   "source": [
    "plt.hist(velocities_large[:,0])\n",
    "plt.title(\"Initial velocity x-component\")\n",
    "plt.xlabel(\"Velocity (m/s)\")\n",
    "plt.ylabel(\"Count\")\n",
    "plt.show()\n",
    "\n",
    "plt.hist(velocities_large[:,1])\n",
    "plt.title(\"Initial velocity y-component\")\n",
    "plt.xlabel(\"Velocity (m/s)\")\n",
    "plt.ylabel(\"Count\")\n",
    "plt.show()\n",
    "\n",
    "plt.hist(velocities_large[:,2])\n",
    "plt.title(\"Initial velocity z-component\")\n",
    "plt.xlabel(\"Velocity (m/s)\")\n",
    "plt.ylabel(\"Count\")\n",
    "plt.show()"
   ]
  },
  {
   "cell_type": "markdown",
   "metadata": {},
   "source": [
    "From the above velocity plots, we see an even distribution in all 3 dimensions, so our directions were properly picked uniformly. The appendix shows an example of my earlier code, explains why it had a bias, and shows what these figures would look like if things weren't looking right. Additionally, we can check that the magnitude of the velocities is correct for each particle (showing that our transformation to cartesian components maintained the desired magnitude). This is done below."
   ]
  },
  {
   "cell_type": "code",
   "execution_count": 73,
   "metadata": {},
   "outputs": [
    {
     "name": "stdout",
     "output_type": "stream",
     "text": [
      "maximum particle speed: 176.69132876057395\n",
      "minimum particle speed: 176.69132876057384\n",
      "desired particle speed: 176.6913287605739\n"
     ]
    }
   ],
   "source": [
    "velocities_lst = np.sqrt(velocities_large[:,0]*velocities_large[:,0]+velocities_large[:,1]*velocities_large[:,1]+velocities_large[:,2]*velocities_large[:,2])\n",
    "print(\"maximum particle speed:\", max(velocities_lst))\n",
    "print(\"minimum particle speed:\", min(velocities_lst))\n",
    "print(\"desired particle speed:\", np.sqrt(2*1.5*temperature*kb/mass))"
   ]
  },
  {
   "cell_type": "markdown",
   "metadata": {},
   "source": [
    "As we can see, the particles are all at the speed equivalent to the average speed calculated from the temperature of the system."
   ]
  },
  {
   "cell_type": "markdown",
   "metadata": {},
   "source": [
    "Now that we've verified the accuracy of our system initialization, let's take a look at the results of our simulations across varying temperatures."
   ]
  },
  {
   "cell_type": "code",
   "execution_count": 76,
   "metadata": {},
   "outputs": [
    {
     "data": {
      "image/png": "[encoded data removed]",
      "text/plain": [
       "<Figure size 432x288 with 1 Axes>"
      ]
     },
     "metadata": {
      "needs_background": "light"
     },
     "output_type": "display_data"
    },
    {
     "name": "stdout",
     "output_type": "stream",
     "text": [
      "Increased by 1.7801392418898584e-19 Joules at 70 Kelvin\n",
      "[ 40  45  50  55  60  65  70  75  80  85  90  95 100 105 110 115]\n",
      "[1.6956712112134053e-21, 3.3628904422166416e-21, 8.209052551270393e-22, 1.1271052010535881e-22, 7.397489695397392e-22, 1.4738119804831603e-21, 1.787536731585256e-19, 3.0483137248242854e-21, 2.389735905500832e-21, 1.0822759245298121e-21, 2.3897588151349497e-21, 3.8741296622380235e-21, 8.111663170773624e-22, 3.552194245996795e-21, 3.5826738426368295e-21, 1.8875508859285505e-21]\n"
     ]
    }
   ],
   "source": [
    "plt.plot(temperatures,pot_temps)\n",
    "plt.xlabel(\"Temperature (K)\")\n",
    "plt.ylabel(\"Total System Potential (J)\")\n",
    "plt.title(\"Argon Phase Changes\")\n",
    "plt.show()\n",
    "\n",
    "increase = (pot_temps[6]-pot_temps[4])\n",
    "print(\"Increased by\", increase, \"Joules at 70 Kelvin\")\n",
    "\n",
    "print(temperatures)\n",
    "print(pot_temps)"
   ]
  },
  {
   "cell_type": "markdown",
   "metadata": {},
   "source": [
    "Overall, this doesn't look great, although there is some useful information we can extract from this. We can see a sudden spike in the final potential energy of the system at around 70 Kelvin, which isn't actually too surprising. Since the melting point and boiling point of argon are in the 80-90 Kelvin range, what we're likely seeing with that spike is those phase changes, just slightly inaccurate. Due to the rudimentary nature of my model, I'm not all that surprised that it's not exact. Some of the primary reasons why this may be off is that I didn't implement a distribution of initial velocities, the number of particles is extremely small at only 10, and the initial positions were random as opposed to in a lattice. The biggest issue with this result is that the potential energy drops back down after the phase change, although I think this is likely due to the cutoff distance in the Lennard-Jones potential. If my value for the cutoff distance is too small, then as the particles get farther apart during the phase change, the potential might artificially drop off again as particles are no longer interacting according to the model."
   ]
  },
  {
   "cell_type": "markdown",
   "metadata": {},
   "source": [
    "##  Conclusion and Perspectives"
   ]
  },
  {
   "cell_type": "markdown",
   "metadata": {},
   "source": [
    "Overall, I learned that molecular dynamics can be a helpful method of simulating a system of interacting particles, although the computational power necessary becomes prohibitively large for even a relatively small number of particles. I was able to extract an approximation for when argon changes phases, although it was quite a ways off due to the rudimentary nature of my model. I extracted a value of 70 Kelvin for the phase change as evident by an increase in the total system potential energy of $1.78*10^{-19}$ Joules at this point. \n",
    "\n",
    "Perhaps the biggest issue I ran into was in my initial attempt to code a molecular dynamics simulation in c++. I had some base code from a github repository created by Anders Hafreager, but after way too many hours of still struggling with compiling code I decided to completely start from scratch with python. If I was to do this again I definitely would start with python from the beginning, since the minor benefit of computational efficiency with c++ just isn't worth it in my opinion. Python is also extremely easy with visualizations, which was another thing that sucked up a lot of my time trying to figure out while I was still attempting to use c++.\n",
    "\n",
    "Another issue that I came across was in determining the distribution of initial speeds. I at first was looking at applying a Maxwell Boltzmann distribution to the gases, although I later realized that this only really applies to idea gases, and not solids, which is supposed to be my initial phase. Because of this, I applied the average speed to all particles. I also randomized initial positions as opposed to building up a 3D lattice structure due to the time constraints of the project. If I had more time, the first thing I would want to do is apply appropriate spacing to the initial positions to see if that impacts the extracted phase change temperature, and if not I would want to look more into appropriate speed distributions in different states of matter."
   ]
  },
  {
   "cell_type": "markdown",
   "metadata": {},
   "source": [
    "## References"
   ]
  },
  {
   "cell_type": "markdown",
   "metadata": {},
   "source": [
    "Literature/History Sources:\n",
    "1. Ciccotti et al., \"Molecular simulations: past, present, and future (a Topical Issue in EPJB)\", The European Physical Journal B, https://link.springer.com/article/10.1140/epjb/s10051-021-00249-x\n",
    "\n",
    "2. E. Maginn, J. Elliott, \"Historical Perspective and Current Outlook for Molecular Dynamics As a Chemical Engineering Tool\", https://pubs.acs.org/doi/10.1021/ie901898k\n",
    "\n",
    "3. \"Molecular dynamics\", University of Cologne, 2024, https://pubs.acs.org/doi/10.1021/ie901898k\n",
    "\n",
    "4. Xipeng Wang et al., \"The Lennard-Jones potential: when (not) to use it, Physical Chemistry Chemical Physics, https://pubs.rsc.org/en/content/articlelanding/2020/cp/c9cp05445f\n",
    "\n",
    "5. Princeton, \"Argon, Ar\", https://www.princeton.edu/~maelabs/mae324/glos324/argon.htm\n",
    "\n",
    "Code/Implementation Sources:\n",
    "6. Anders Hafreager, github repository, https://github.com/andeplane/molecular-dynamics-fys3150\n",
    "\n",
    "7. Karthik Karanth, \"Generating Random Points in a Sphere\", 4 Aug 2018, https://github.com/andeplane/molecular-dynamics-fys3150"
   ]
  },
  {
   "cell_type": "markdown",
   "metadata": {},
   "source": [
    "## Appendix"
   ]
  },
  {
   "cell_type": "markdown",
   "metadata": {},
   "source": [
    "Initially, my velocity calculations were done using the following function:"
   ]
  },
  {
   "cell_type": "code",
   "execution_count": 77,
   "metadata": {},
   "outputs": [],
   "source": [
    "def velocity_init(mag):\n",
    "    '''\n",
    "    Determines particle initial velocities in cartesian coordinates\n",
    "    Takes in magnitude of velocity, randomizes direction in spherical coordinates,\n",
    "        and calculates then returns cartesian velocity components\n",
    "    '''\n",
    "    phi = random.uniform(0,2*math.pi) #spherical coordinate\n",
    "    theta = random.uniform(0,math.pi) #spherical coordinate\n",
    "    x = mag*np.sin(theta)*np.cos(phi)\n",
    "    y = mag*np.sin(theta)*np.sin(phi)\n",
    "    z = mag*np.cos(theta)\n",
    "    return x,y,z"
   ]
  },
  {
   "cell_type": "markdown",
   "metadata": {},
   "source": [
    "If you set up the argon atoms using this method, when analyzing the cartesian components of the velocity you get the following."
   ]
  },
  {
   "cell_type": "code",
   "execution_count": 78,
   "metadata": {},
   "outputs": [
    {
     "data": {
      "image/png": "[encoded data removed]",
      "text/plain": [
       "<Figure size 432x288 with 1 Axes>"
      ]
     },
     "metadata": {
      "needs_background": "light"
     },
     "output_type": "display_data"
    },
    {
     "data": {
      "image/png": "[encoded data removed]",
      "text/plain": [
       "<Figure size 432x288 with 1 Axes>"
      ]
     },
     "metadata": {
      "needs_background": "light"
     },
     "output_type": "display_data"
    },
    {
     "data": {
      "image/png": "[encoded data removed]",
      "text/plain": [
       "<Figure size 432x288 with 1 Axes>"
      ]
     },
     "metadata": {
      "needs_background": "light"
     },
     "output_type": "display_data"
    }
   ],
   "source": [
    "#system setup testing\n",
    "temperature = 50\n",
    "num_particles = 10000\n",
    "\n",
    "positions, velocities = system_init(temperature)\n",
    "\n",
    "plt.hist(velocities[:,0])\n",
    "plt.title(\"Initial velocity x-component\")\n",
    "plt.xlabel(\"Velocity (m/s)\")\n",
    "plt.ylabel(\"Count\")\n",
    "plt.show()\n",
    "\n",
    "plt.hist(velocities[:,1])\n",
    "plt.title(\"Initial velocity y-component\")\n",
    "plt.xlabel(\"Velocity (m/s)\")\n",
    "plt.ylabel(\"Count\")\n",
    "plt.show()\n",
    "\n",
    "plt.hist(velocities[:,2])\n",
    "plt.title(\"Initial velocity z-component\")\n",
    "plt.xlabel(\"Velocity (m/s)\")\n",
    "plt.ylabel(\"Count\")\n",
    "plt.show()"
   ]
  },
  {
   "cell_type": "markdown",
   "metadata": {},
   "source": [
    "This distribution for the x and y components that peaks around 0 m/s, and the z component that's at a minimum around 0 m/s is caused by an issue with the nonlinear transformation between spherical and cartesian coordinates. To account for this, I had to generate my phi and theta values (angles in spherical coordinates), using a different method proposed by Karthik Karanth in source 7."
   ]
  }
 ],
 "metadata": {
  "kernelspec": {
   "display_name": "Python 3",
   "language": "python",
   "name": "python3"
  },
  "language_info": {
   "codemirror_mode": {
    "name": "ipython",
    "version": 3
   },
   "file_extension": ".py",
   "mimetype": "text/x-python",
   "name": "python",
   "nbconvert_exporter": "python",
   "pygments_lexer": "ipython3",
   "version": "3.8.3"
  }
 },
 "nbformat": 4,
 "nbformat_minor": 4
}
