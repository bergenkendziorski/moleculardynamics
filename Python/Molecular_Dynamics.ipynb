{
 "cells": [
  {
   "cell_type": "code",
   "execution_count": 64,
   "metadata": {},
   "outputs": [],
   "source": [
    "import numpy as np\n",
    "import random\n",
    "import math\n",
    "import matplotlib.pyplot as plt\n",
    "import statistics\n",
    "%matplotlib inline"
   ]
  },
  {
   "cell_type": "code",
   "execution_count": 65,
   "metadata": {},
   "outputs": [],
   "source": [
    "# Define constants for argon\n",
    "mass_argon = 39.948  # Atomic mass of argon in atomic mass units (AMU)\n",
    "sigma_argon = 3.4  # Lennard-Jones sigma parameter for argon in Angstrom\n",
    "epsilon_argon = 0.238  # Lennard-Jones epsilon parameter for argon in eV\n",
    "rcut_argon = 2.5 * sigma_argon  # Cutoff distance for LJ potential for argon in Angstrom"
   ]
  },
  {
   "cell_type": "code",
   "execution_count": 66,
   "metadata": {},
   "outputs": [],
   "source": [
    "#system constants/parameters\n",
    "kb = 1.38065e-23 #J/K\n",
    "tfinal = 100\n",
    "DeltaT = .01\n",
    "n = ceil(tfinal/DeltaT)\n",
    "mass = 39.948*1.66054e-27  # Mass of particles in kilograms\n",
    "lattice_const = 5.26e-10 #meters\n",
    "#epsilon = 1.65e-21#.0103 #120*kb  #K\n",
    "epsilon = 120*kb\n",
    "sigma = .3405e-9 #m\n",
    "cutoff = 5*sigma #2.5 * sigma  # Cutoff distance for LJ potential\n",
    "box_size = 10*sigma #5.0e-9  # Size of the simulation box\n",
    "num_particles = 10  # Number of particles"
   ]
  },
  {
   "cell_type": "code",
   "execution_count": 67,
   "metadata": {},
   "outputs": [],
   "source": [
    "def lj_pot(r): #lennard-jones potential\n",
    "    return 4*epsilon*((sigma/r)**12 - (sigma/r)**6)\n",
    "\n",
    "def lj_force(r): #just negative derivate of potential wrt r\n",
    "    return 4*epsilon*(12*(sigma**12)/(r**13) - 6*(sigma**6)/(r**7))"
   ]
  },
  {
   "cell_type": "code",
   "execution_count": 60,
   "metadata": {},
   "outputs": [],
   "source": [
    "def velocity_init_old(mag):\n",
    "    '''\n",
    "    Determines particle initial velocities in cartesian coordinates\n",
    "    Takes in magnitude of velocity, randomizes direction in spherical coordinates,\n",
    "        and calculates then returns cartesian velocity components\n",
    "    '''\n",
    "    phi = random.uniform(0,2*math.pi) #spherical coordinate\n",
    "    theta = random.uniform(0,math.pi) #spherical coordinate\n",
    "    x = mag*np.sin(theta)*np.cos(phi)\n",
    "    y = mag*np.sin(theta)*np.sin(phi)\n",
    "    z = mag*np.cos(theta)\n",
    "    return x,y,z"
   ]
  },
  {
   "cell_type": "code",
   "execution_count": 68,
   "metadata": {},
   "outputs": [],
   "source": [
    "def velocity_init(mag):\n",
    "    u = random.random()\n",
    "    v = random.random()\n",
    "    theta = u * 2.0 * math.pi\n",
    "    phi = math.acos(2.0 * v - 1.0)\n",
    "    x = mag * np.sin(phi) * np.cos(theta)\n",
    "    y = mag * np.sin(phi) * np.sin(theta)\n",
    "    z = mag * np.cos(phi)\n",
    "    return x,y,z"
   ]
  },
  {
   "cell_type": "code",
   "execution_count": null,
   "metadata": {},
   "outputs": [],
   "source": [
    "def perform_iteration():\n",
    "    '''\n",
    "    '''"
   ]
  },
  {
   "cell_type": "code",
   "execution_count": 62,
   "metadata": {},
   "outputs": [
    {
     "data": {
      "image/png": "[encoded data removed]",
      "text/plain": [
       "<Figure size 432x288 with 1 Axes>"
      ]
     },
     "metadata": {
      "needs_background": "light"
     },
     "output_type": "display_data"
    },
    {
     "data": {
      "image/png": "[encoded data removed]",
      "text/plain": [
       "<Figure size 432x288 with 1 Axes>"
      ]
     },
     "metadata": {
      "needs_background": "light"
     },
     "output_type": "display_data"
    },
    {
     "data": {
      "image/png": "[encoded data removed]",
      "text/plain": [
       "<Figure size 432x288 with 1 Axes>"
      ]
     },
     "metadata": {
      "needs_background": "light"
     },
     "output_type": "display_data"
    }
   ],
   "source": [
    "#system setup testing\n",
    "temperature = 50\n",
    "num_particles = 10000\n",
    "K = 1.5*temperature*kb #average particle kinetic energy\n",
    "v = np.sqrt(2*K/mass) #average particle speed\n",
    "positions = np.random.uniform(0, box_size, size=(num_particles, 3))\n",
    "velocities = np.empty(shape=(num_particles,3))\n",
    "#velocities_lst = []\n",
    "for i in range(num_particles):\n",
    "    x,y,z = velocity_init(v)\n",
    "    velocities[i][0] = x\n",
    "    velocities[i][1] = y\n",
    "    velocities[i][2] = z\n",
    "    #velocities_lst.append(np.sqrt(x*x+y*y+z*z))\n",
    "\n",
    "plt.hist(velocities[:,0])\n",
    "plt.title(\"Initial velocity x-component\")\n",
    "plt.xlabel(\"Velocity (m/s)\")\n",
    "plt.ylabel(\"Count\")\n",
    "plt.show()\n",
    "\n",
    "plt.hist(velocities[:,1])\n",
    "plt.title(\"Initial velocity y-component\")\n",
    "plt.xlabel(\"Velocity (m/s)\")\n",
    "plt.ylabel(\"Count\")\n",
    "plt.show()\n",
    "\n",
    "plt.hist(velocities[:,2])\n",
    "plt.title(\"Initial velocity z-component\")\n",
    "plt.xlabel(\"Velocity (m/s)\")\n",
    "plt.ylabel(\"Count\")\n",
    "plt.show()\n",
    "\n",
    "#print(velocities_lst)\n"
   ]
  },
  {
   "cell_type": "code",
   "execution_count": 69,
   "metadata": {},
   "outputs": [],
   "source": [
    "temperatures = np.linspace(30,120,5)\n",
    "num_particles = 10\n",
    "pot_temps = []\n",
    "for temperature in temperatures: #loop through temperatures\n",
    "    K = 1.5*temperature*kb #average particle kinetic energy\n",
    "    v = np.sqrt(2*K/mass) #average particle speed\n",
    "\n",
    "    t = np.zeros(n)\n",
    "    positions = np.random.uniform(0, box_size, size=(num_particles, 3))\n",
    "    velocities = np.empty(shape=(num_particles,3))\n",
    "    for i in range(num_particles):\n",
    "        x,y,z = velocity_init(v)\n",
    "        velocities[i][0] = x\n",
    "        velocities[i][1] = y\n",
    "        velocities[i][2] = z\n",
    "\n",
    "    #potentials = np.zeros(n)\n",
    "    #kinetics = np.zeros(n)\n",
    "    # Start integrating using velocity verlet method\n",
    "    for curr_step in range(n): #looping through number of steps\n",
    "        accelerations = np.zeros_like(positions)\n",
    "        curr_potential = 0\n",
    "\n",
    "        for i in range(num_particles):\n",
    "            for j in range(i+1,num_particles):\n",
    "                r_ij = positions[j] - positions[i]\n",
    "                r_ij -= np.rint(r_ij/box_size)*box_size\n",
    "                #r_ij[0] = r_ij[0] % box_size\n",
    "                #r_ij[1] = r_ij[1] % box_size\n",
    "                #r_ij[2] = r_ij[2] % box_size\n",
    "                r_mag = np.linalg.norm(r_ij)\n",
    "\n",
    "                if(r_mag<cutoff):\n",
    "                    force_directed = lj_force(r_mag)*(r_ij/r_mag)\n",
    "                    accelerations[i] += force_directed/mass\n",
    "                    accelerations[j] += -1*force_directed/mass\n",
    "                    curr_potential += 2*np.abs(lj_pot(r_mag))\n",
    "\n",
    "        #updates after calculated all of the accelerations\n",
    "        for i in range(num_particles):\n",
    "            positions[i] = positions[i] + DeltaT*velocities[i] + accelerations[i]*DeltaT*DeltaT/2\n",
    "            velocities[i] = velocities[i] + .5*DeltaT*accelerations[i]\n",
    "            t[i+1] = t[i] + DeltaT\n",
    "            positions[i][0] = positions[i][0] % box_size\n",
    "            positions[i][1] = positions[i][1] % box_size\n",
    "            positions[i][2] = positions[i][2] % box_size\n",
    "\n",
    "        #kinetics[curr_step] = .5*mass*np.sum(velocities*velocities)\n",
    "        #potentials[curr_step] = curr_potential\n",
    "\n",
    "    for i in range(num_particles):\n",
    "        positions[i][0] = positions[i][0] % box_size\n",
    "        positions[i][1] = positions[i][1] % box_size\n",
    "        positions[i][2] = positions[i][2] % box_size\n",
    "    pot_temps.append(curr_potential)"
   ]
  },
  {
   "cell_type": "code",
   "execution_count": 71,
   "metadata": {},
   "outputs": [
    {
     "data": {
      "text/plain": [
       "Text(0.5, 1.0, 'Argon Phase Changes')"
      ]
     },
     "execution_count": 71,
     "metadata": {},
     "output_type": "execute_result"
    },
    {
     "data": {
      "image/png": "[encoded data removed]",
      "text/plain": [
       "<Figure size 432x288 with 1 Axes>"
      ]
     },
     "metadata": {
      "needs_background": "light"
     },
     "output_type": "display_data"
    }
   ],
   "source": [
    "plt.plot(temperatures,pot_temps)\n",
    "plt.xlabel(\"Temperature (K)\")\n",
    "plt.ylabel(\"Total System Potential (J)\")\n",
    "plt.title(\"Argon Phase Changes\")"
   ]
  },
  {
   "cell_type": "code",
   "execution_count": null,
   "metadata": {},
   "outputs": [],
   "source": []
  }
 ],
 "metadata": {
  "kernelspec": {
   "display_name": "Python 3",
   "language": "python",
   "name": "python3"
  },
  "language_info": {
   "codemirror_mode": {
    "name": "ipython",
    "version": 3
   },
   "file_extension": ".py",
   "mimetype": "text/x-python",
   "name": "python",
   "nbconvert_exporter": "python",
   "pygments_lexer": "ipython3",
   "version": "3.8.3"
  }
 },
 "nbformat": 4,
 "nbformat_minor": 4
}
